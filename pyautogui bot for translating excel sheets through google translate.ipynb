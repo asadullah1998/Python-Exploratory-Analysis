{
 "cells": [
  {
   "cell_type": "code",
   "execution_count": 1,
   "id": "e7fda975",
   "metadata": {},
   "outputs": [],
   "source": [
    "#pip install pyautogui"
   ]
  },
  {
   "cell_type": "code",
   "execution_count": 23,
   "id": "34615082",
   "metadata": {},
   "outputs": [],
   "source": [
    "import pyautogui, sys\n",
    "\n",
    "import time"
   ]
  },
  {
   "cell_type": "code",
   "execution_count": 3,
   "id": "263dbd08",
   "metadata": {},
   "outputs": [
    {
     "data": {
      "text/plain": [
       "Size(width=1920, height=1080)"
      ]
     },
     "execution_count": 3,
     "metadata": {},
     "output_type": "execute_result"
    }
   ],
   "source": [
    "pyautogui.size()"
   ]
  },
  {
   "cell_type": "code",
   "execution_count": 24,
   "id": "4c9c154e",
   "metadata": {},
   "outputs": [],
   "source": [
    "pyautogui.press('win')\n",
    "time.sleep(2)\n",
    "pyautogui.write('Google Chrome') \n",
    "time.sleep(2)\n",
    "pyautogui.press('enter')\n",
    "time.sleep(2)\n",
    "pyautogui.write('https://translate.google.com/') \n",
    "time.sleep(2)\n",
    "pyautogui.press('enter')\n",
    "\n",
    "time.sleep(2)\n",
    "pyautogui.hotkey('ctrl', 'f')\n",
    "time.sleep(2)\n",
    "pyautogui.write('Documents') \n",
    "\n",
    "time.sleep(2)\n",
    "pyautogui.press('enter')\n",
    "time.sleep(2)\n",
    "pyautogui.hotkey('ctrl', 'enter')\n",
    "\n",
    "\n",
    "\n",
    "\n",
    "pyautogui.moveTo(940, 535)\n",
    "time.sleep(2)\n",
    "pyautogui.click()\n",
    "\n",
    "time.sleep(2)\n",
    "pyautogui.write(r'File location here') \n",
    "\n",
    "time.sleep(2)\n",
    "pyautogui.press('enter')\n",
    "\n",
    "\n",
    "#locate on screen\n",
    "# time.sleep(2)\n",
    "# pyautogui.moveTo(263, 324)\n",
    "# time.sleep(2)\n",
    "# pyautogui.click()\n",
    "time.sleep(2)\n",
    "x,y = pyautogui.locateCenterOnScreen(r'file location here')\n",
    "pyautogui.click(x, y)\n",
    "\n",
    "\n",
    "\n",
    "time.sleep(2)\n",
    "pyautogui.moveTo(1270, 311)\n",
    "time.sleep(2)\n",
    "pyautogui.click()\n",
    "\n",
    "\n",
    "\n",
    "\n",
    "time.sleep(2)\n",
    "pyautogui.moveTo(1294, 560)\n",
    "time.sleep(2)\n",
    "pyautogui.click()\n",
    "\n",
    "\n",
    "\n",
    "time.sleep(10)\n",
    "pyautogui.click()\n",
    "\n"
   ]
  },
  {
   "cell_type": "code",
   "execution_count": null,
   "id": "aedc4403",
   "metadata": {},
   "outputs": [],
   "source": []
  },
  {
   "cell_type": "code",
   "execution_count": 17,
   "id": "975a7f8a",
   "metadata": {},
   "outputs": [
    {
     "data": {
      "text/plain": [
       "Point(x=263, y=324)"
      ]
     },
     "execution_count": 17,
     "metadata": {},
     "output_type": "execute_result"
    }
   ],
   "source": [
    "#find position of mouse ## finger method\n",
    "pyautogui.position()"
   ]
  },
  {
   "cell_type": "raw",
   "id": "9cdf2812",
   "metadata": {},
   "source": []
  },
  {
   "cell_type": "code",
   "execution_count": null,
   "id": "ef6bfc11",
   "metadata": {},
   "outputs": [],
   "source": []
  }
 ],
 "metadata": {
  "kernelspec": {
   "display_name": "Python 3",
   "language": "python",
   "name": "python3"
  },
  "language_info": {
   "codemirror_mode": {
    "name": "ipython",
    "version": 3
   },
   "file_extension": ".py",
   "mimetype": "text/x-python",
   "name": "python",
   "nbconvert_exporter": "python",
   "pygments_lexer": "ipython3",
   "version": "3.8.8"
  }
 },
 "nbformat": 4,
 "nbformat_minor": 5
}
